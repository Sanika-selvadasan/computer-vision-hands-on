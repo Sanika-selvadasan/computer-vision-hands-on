{
 "cells": [
  {
   "cell_type": "code",
   "execution_count": 11,
   "id": "c770083c",
   "metadata": {},
   "outputs": [
    {
     "data": {
      "text/plain": [
       "-1"
      ]
     },
     "execution_count": 11,
     "metadata": {},
     "output_type": "execute_result"
    }
   ],
   "source": [
    "import pywt\n",
    "import cv2\n",
    "import numpy as np\n",
    "\n",
    "# Load the image\n",
    "img = cv2.imread(r'C:\\Users\\LENOVO\\Pictures\\DSC_0012_1.jpg', 0)  # Load grayscale image\n",
    "\n",
    "# Resize the image to fit the screen\n",
    "height, width = img.shape\n",
    "max_size = max(height, width)\n",
    "if max_size > 1000:\n",
    "    scale = 1000 / max_size\n",
    "    img = cv2.resize(img, (0, 0), fx=scale, fy=scale)\n",
    "\n",
    "# Perform 2D Discrete Wavelet Transform using Haar wavelet\n",
    "coeffs = pywt.dwt2(img, 'haar')\n",
    "\n",
    "# Split coefficients into approximation and detail coefficients\n",
    "cA, (cH, cV, cD) = coeffs\n",
    "\n",
    "# Display the results\n",
    "cv2.imshow(\"Approximation coefficients\", cA.astype(np.uint8))\n",
    "cv2.imshow(\"Horizontal detail coefficients\", cH.astype(np.uint8))\n",
    "cv2.imshow(\"Vertical detail coefficients\", cV.astype(np.uint8))\n",
    "cv2.imshow(\"Diagonal detail coefficients\", cD.astype(np.uint8))\n",
    "cv2.waitKey(0)\n"
   ]
  },
  {
   "cell_type": "code",
   "execution_count": null,
   "id": "c63a0c76",
   "metadata": {},
   "outputs": [],
   "source": []
  }
 ],
 "metadata": {
  "kernelspec": {
   "display_name": "Python 3 (ipykernel)",
   "language": "python",
   "name": "python3"
  },
  "language_info": {
   "codemirror_mode": {
    "name": "ipython",
    "version": 3
   },
   "file_extension": ".py",
   "mimetype": "text/x-python",
   "name": "python",
   "nbconvert_exporter": "python",
   "pygments_lexer": "ipython3",
   "version": "3.11.2"
  }
 },
 "nbformat": 4,
 "nbformat_minor": 5
}
