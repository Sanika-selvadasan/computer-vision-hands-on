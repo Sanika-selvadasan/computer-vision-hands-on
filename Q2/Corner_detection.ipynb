{
 "cells": [
  {
   "cell_type": "code",
   "execution_count": 29,
   "id": "113f0e6c",
   "metadata": {},
   "outputs": [],
   "source": [
    "import cv2\n",
    "import numpy as np\n",
    "\n",
    "# Load the image\n",
    "img = cv2.imread(r'E:\\Phone\\Camera\\IMG_20220411_204715~2.jpg')\n",
    "\n",
    "# Resize the image to fit the screen\n",
    "height, width, _ = img.shape\n",
    "max_size = max(height, width)\n",
    "if max_size > 1000:\n",
    "    scale = 1000 / max_size\n",
    "    img = cv2.resize(img, (0, 0), fx=scale, fy=scale)\n",
    "\n",
    "\n",
    "\n",
    "# Convert the image to grayscale using the cvtColor() function\n",
    "gray = cv2.cvtColor(img, cv2.COLOR_BGR2GRAY)\n",
    "\n",
    "# Perform corner detection using the Harris corner detection algorithm\n",
    "corners = cv2.cornerHarris(gray, 2, 3, 0.04)\n",
    "\n",
    "# Threshold the corner response to obtain only the strongest corners\n",
    "threshold = 0.01 * corners.max()\n",
    "corners_mask = np.uint8(corners > threshold)\n",
    "corners_image = np.zeros_like(gray)\n",
    "corners_image[corners_mask != 0] = 255\n",
    "\n",
    "# Display the corners on the original image\n",
    "img[corners_mask != 0] = [0, 0, 255]\n",
    "\n",
    "\n",
    "\n",
    "# Display the original image and the detected corners\n",
    "cv2.imshow('Corners', img)\n",
    "cv2.waitKey(0)\n",
    "cv2.destroyAllWindows()\n"
   ]
  },
  {
   "cell_type": "code",
   "execution_count": 25,
   "id": "e182cede",
   "metadata": {},
   "outputs": [],
   "source": []
  },
  {
   "cell_type": "code",
   "execution_count": null,
   "id": "e885eaac",
   "metadata": {},
   "outputs": [],
   "source": []
  }
 ],
 "metadata": {
  "kernelspec": {
   "display_name": "Python 3 (ipykernel)",
   "language": "python",
   "name": "python3"
  },
  "language_info": {
   "codemirror_mode": {
    "name": "ipython",
    "version": 3
   },
   "file_extension": ".py",
   "mimetype": "text/x-python",
   "name": "python",
   "nbconvert_exporter": "python",
   "pygments_lexer": "ipython3",
   "version": "3.9.13"
  }
 },
 "nbformat": 4,
 "nbformat_minor": 5
}
