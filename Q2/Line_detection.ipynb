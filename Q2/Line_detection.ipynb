{
 "cells": [
  {
   "cell_type": "code",
   "execution_count": 28,
   "id": "69f79032",
   "metadata": {},
   "outputs": [
    {
     "name": "stdout",
     "output_type": "stream",
     "text": [
      "[[[274.          1.5882496]]\n",
      "\n",
      " [[404.          1.5882496]]\n",
      "\n",
      " [[202.          1.5358897]]\n",
      "\n",
      " [[474.          1.4835298]]\n",
      "\n",
      " [[393.          1.6231562]]\n",
      "\n",
      " [[509.          1.5707964]]\n",
      "\n",
      " [[392.          1.6057029]]]\n"
     ]
    }
   ],
   "source": [
    "import cv2\n",
    "import numpy as np\n",
    "\n",
    "# Load the image\n",
    "img = cv2.imread(r'E:\\Phone\\WhatsApp Images\\IMG-20210925-WA0097.jpg')\n",
    "\n",
    "# Resize the image to fit the screen\n",
    "height, width, _ = img.shape\n",
    "max_size = max(height, width)\n",
    "if max_size > 1000:\n",
    "    scale = 1000 / max_size\n",
    "    img = cv2.resize(img, (0, 0), fx=scale, fy=scale)\n",
    "\n",
    "# Convert to grayscale\n",
    "gray = cv2.cvtColor(img, cv2.COLOR_BGR2GRAY)\n",
    "\n",
    "# Perform edge detection using the Canny algorithm\n",
    "edges = cv2.Canny(gray, 50, 150, apertureSize=3)\n",
    "\n",
    "# Apply Hough Line Transform to detect lines in the image\n",
    "# rho=1, theta=np.pi/180, and threshold=150. \n",
    "# This means that lines will be detected with a resolution of 1 pixel and 1 degree, \n",
    "# and a line will be detected if it has at least 150 votes\n",
    "lines = cv2.HoughLines(edges, 1, np.pi/180, 120)\n",
    "\n",
    "#line is a tuple  of (rho, theta) which is it's polar coordinates\n",
    "\n",
    "print(lines)\n",
    "\n",
    "# Draw the detected lines on the original image\n",
    "for line in lines:\n",
    "    rho, theta = line[0]\n",
    "    a = np.cos(theta)\n",
    "    b = np.sin(theta)\n",
    "    x0 = a * rho\n",
    "    y0 = b * rho\n",
    "    x1 = int(x0 + 1000 * (-b))\n",
    "    y1 = int(y0 + 1000 * (a))\n",
    "    x2 = int(x0 - 1000 * (-b))\n",
    "    y2 = int(y0 - 1000 * (a))\n",
    "    cv2.line(img, (x1, y1), (x2, y2), (0, 0, 255), 1)\n",
    "\n",
    "# Display the result\n",
    "cv2.imshow('Lines', img)\n",
    "cv2.waitKey(0)\n",
    "cv2.destroyAllWindows()\n"
   ]
  },
  {
   "cell_type": "code",
   "execution_count": null,
   "id": "f4c59c68",
   "metadata": {},
   "outputs": [],
   "source": []
  }
 ],
 "metadata": {
  "kernelspec": {
   "display_name": "Python 3 (ipykernel)",
   "language": "python",
   "name": "python3"
  },
  "language_info": {
   "codemirror_mode": {
    "name": "ipython",
    "version": 3
   },
   "file_extension": ".py",
   "mimetype": "text/x-python",
   "name": "python",
   "nbconvert_exporter": "python",
   "pygments_lexer": "ipython3",
   "version": "3.11.2"
  }
 },
 "nbformat": 4,
 "nbformat_minor": 5
}
