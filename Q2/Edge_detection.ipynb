{
 "cells": [
  {
   "cell_type": "code",
   "execution_count": 7,
   "id": "b2c4f5df",
   "metadata": {},
   "outputs": [
    {
     "name": "stdout",
     "output_type": "stream",
     "text": [
      "(1000, 636, 3)\n"
     ]
    }
   ],
   "source": [
    "# Importing packages \n",
    "import cv2\n",
    "import numpy as np\n",
    "\n",
    "# Load the image\n",
    "img = cv2.imread(r'E:\\Phone\\Camera\\IMG_20220408_000057.jpg')\n",
    "\n",
    "# Resize the image to fit the screen\n",
    "height, width, _ = img.shape\n",
    "max_size = max(height, width)\n",
    "if max_size > 1000:\n",
    "    scale = 1000 / max_size\n",
    "    img = cv2.resize(img, (0, 0), fx=scale, fy=scale)\n",
    "\n",
    "#print images dimension to check image is loaded successfully\n",
    "print(img.shape)\n",
    "\n",
    "\n",
    "# Convert the image to grayscale\n",
    "gray = cv2.cvtColor(img, cv2.COLOR_BGR2GRAY)\n",
    "\n",
    "# Apply Gaussian smoothing\n",
    "blur = cv2.GaussianBlur(gray, (5, 5), 0)\n",
    "\n",
    "#Applying Canny edge detection algorithm\n",
    "edges = cv2.Canny(blur, 50, 100)\n",
    "\n",
    "\n",
    "# Show the original and edge-detected images\n",
    "cv2.imshow('Original image', img)\n",
    "cv2.imshow('Edges of the image', edges)\n",
    "\n",
    "# Wait for a key press and then close the windows\n",
    "cv2.waitKey(0)\n",
    "cv2.destroyAllWindows()\n"
   ]
  },
  {
   "cell_type": "code",
   "execution_count": null,
   "id": "9ac054a5",
   "metadata": {},
   "outputs": [],
   "source": []
  }
 ],
 "metadata": {
  "kernelspec": {
   "display_name": "Python 3 (ipykernel)",
   "language": "python",
   "name": "python3"
  },
  "language_info": {
   "codemirror_mode": {
    "name": "ipython",
    "version": 3
   },
   "file_extension": ".py",
   "mimetype": "text/x-python",
   "name": "python",
   "nbconvert_exporter": "python",
   "pygments_lexer": "ipython3",
   "version": "3.11.2"
  }
 },
 "nbformat": 4,
 "nbformat_minor": 5
}
