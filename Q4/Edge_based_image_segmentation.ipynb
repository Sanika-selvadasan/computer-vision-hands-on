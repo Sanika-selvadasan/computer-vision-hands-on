{
 "cells": [
  {
   "cell_type": "code",
   "execution_count": 29,
   "id": "fbc515e1",
   "metadata": {},
   "outputs": [],
   "source": [
    "import cv2\n",
    "\n",
    "# Load the image\n",
    "image = cv2.imread(r'E:\\Phone\\WhatsApp Images\\IMG-20220619-WA0059.jpg')\n",
    "\n",
    "# Resize the image to fit the screen\n",
    "height, width, _ = image.shape\n",
    "max_size = max(height, width)\n",
    "if max_size > 1000:\n",
    "    scale = 1000 / max_size\n",
    "    image = cv2.resize(image, (0, 0), fx=scale, fy=scale)\n",
    "    \n",
    "# Convert the image to grayscale\n",
    "gray = cv2.cvtColor(image, cv2.COLOR_BGR2GRAY)\n",
    "\n",
    "# Apply Sobel edge detection\n",
    "sobelx = cv2.Sobel(gray, cv2.CV_64F, 1, 0, ksize=5)\n",
    "sobely = cv2.Sobel(gray, cv2.CV_64F, 0, 1, ksize=5)\n",
    "sobel = cv2.addWeighted(sobelx, 0.5, sobely, 0.5, 0)\n",
    "\n",
    "# Convert the Sobel image to 8-bit grayscale\n",
    "sobel_8u = cv2.convertScaleAbs(sobel)\n",
    "\n",
    "# Apply binary thresholding\n",
    "_, thresholded = cv2.threshold(sobel_8u, 0, 255, cv2.THRESH_BINARY + cv2.THRESH_OTSU)\n",
    "\n",
    "# Apply morphological opening to remove small objects\n",
    "kernel = cv2.getStructuringElement(cv2.MORPH_RECT, (3, 3))\n",
    "opened = cv2.morphologyEx(thresholded, cv2.MORPH_OPEN, kernel)\n",
    "\n",
    "# Display the original image and the segmented image\n",
    "cv2.imshow('Original Image', image)\n",
    "cv2.imshow('Segmented Image', opened)\n",
    "cv2.waitKey(0)\n",
    "cv2.destroyAllWindows()\n"
   ]
  },
  {
   "cell_type": "code",
   "execution_count": null,
   "id": "e7b5668d",
   "metadata": {},
   "outputs": [],
   "source": []
  },
  {
   "cell_type": "code",
   "execution_count": null,
   "id": "b77cdb32",
   "metadata": {},
   "outputs": [],
   "source": []
  }
 ],
 "metadata": {
  "kernelspec": {
   "display_name": "Python 3 (ipykernel)",
   "language": "python",
   "name": "python3"
  },
  "language_info": {
   "codemirror_mode": {
    "name": "ipython",
    "version": 3
   },
   "file_extension": ".py",
   "mimetype": "text/x-python",
   "name": "python",
   "nbconvert_exporter": "python",
   "pygments_lexer": "ipython3",
   "version": "3.9.13"
  }
 },
 "nbformat": 4,
 "nbformat_minor": 5
}
