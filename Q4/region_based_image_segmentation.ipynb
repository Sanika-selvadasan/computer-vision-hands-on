{
 "cells": [
  {
   "cell_type": "code",
   "execution_count": 8,
   "id": "8faafbd7",
   "metadata": {},
   "outputs": [],
   "source": [
    "import cv2\n",
    "import numpy as np\n",
    "\n",
    "# Load the image\n",
    "image = cv2.imread(r'E:\\Phone\\WhatsApp Images\\IMG-20220619-WA0059.jpg')\n",
    "\n",
    "# Convert the image to grayscale\n",
    "gray = cv2.cvtColor(image, cv2.COLOR_BGR2GRAY)\n",
    "\n",
    "# Apply Sobel edge detection\n",
    "sobelx = cv2.Sobel(gray, cv2.CV_64F, 1, 0, ksize=5)\n",
    "sobely = cv2.Sobel(gray, cv2.CV_64F, 0, 1, ksize=5)\n",
    "sobel = cv2.addWeighted(sobelx, 0.5, sobely, 0.5, 0)\n",
    "\n",
    "# Compute the mean and standard deviation of the Sobel image\n",
    "mean, std = cv2.meanStdDev(sobel)\n",
    "\n",
    "# Apply thresholding based on the mean and standard deviation\n",
    "thresholded = cv2.inRange(sobel, mean - std, mean + std)\n",
    "\n",
    "# Apply morphological closing to fill holes\n",
    "kernel = cv2.getStructuringElement(cv2.MORPH_RECT, (3, 3))\n",
    "closed = cv2.morphologyEx(thresholded, cv2.MORPH_CLOSE, kernel)\n",
    "\n",
    "# Find the connected components in the closed image\n",
    "_, labels = cv2.connectedComponents(closed)\n",
    "\n",
    "# Create a color map for the labels\n",
    "color_map = np.zeros((labels.max() + 1, 3), dtype=np.uint8)\n",
    "color_map[1:, :] = np.random.randint(0, 255, size=(labels.max(), 3))\n",
    "\n",
    "# Apply the color map to the labels\n",
    "colored = color_map[labels]\n",
    "\n",
    "# Display the original image and the segmented image\n",
    "cv2.imshow('Original Image', image)\n",
    "cv2.imshow('Segmented Image', colored)\n",
    "cv2.waitKey(0)\n",
    "cv2.destroyAllWindows()\n"
   ]
  },
  {
   "cell_type": "code",
   "execution_count": null,
   "id": "8b0a01f1",
   "metadata": {},
   "outputs": [],
   "source": []
  },
  {
   "cell_type": "code",
   "execution_count": null,
   "id": "9e0db42d",
   "metadata": {},
   "outputs": [],
   "source": []
  }
 ],
 "metadata": {
  "kernelspec": {
   "display_name": "Python 3 (ipykernel)",
   "language": "python",
   "name": "python3"
  },
  "language_info": {
   "codemirror_mode": {
    "name": "ipython",
    "version": 3
   },
   "file_extension": ".py",
   "mimetype": "text/x-python",
   "name": "python",
   "nbconvert_exporter": "python",
   "pygments_lexer": "ipython3",
   "version": "3.9.13"
  }
 },
 "nbformat": 4,
 "nbformat_minor": 5
}
