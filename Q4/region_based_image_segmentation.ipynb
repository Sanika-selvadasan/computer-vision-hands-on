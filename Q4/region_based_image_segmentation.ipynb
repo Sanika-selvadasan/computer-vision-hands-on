{
 "cells": [
  {
   "cell_type": "code",
   "execution_count": 3,
   "id": "8faafbd7",
   "metadata": {},
   "outputs": [],
   "source": [
    "#import packages\n",
    "import cv2\n",
    "import numpy as np\n",
    "\n",
    " # Load the image\n",
    "image = cv2.imread(r'E:\\Phone\\WhatsApp Documents\\httyd.jpg')\n",
    "\n",
    "# Resize the image to fit the screen\n",
    "height, width, _ = image.shape\n",
    "max_size = max(height, width)\n",
    "if max_size > 1000:\n",
    "    scale = 1000 / max_size\n",
    "    image = cv2.resize(image, (0, 0), fx=scale, fy=scale)\n",
    "\n",
    "#print images dimension to check image is loaded successfully\n",
    "print(image.shape)\n",
    "\n",
    "\n",
    "# Convert the image to grayscale\n",
    "gray = cv2.cvtColor(image, cv2.COLOR_BGR2GRAY)\n",
    "\n",
    "# Applying Gaussian smoothing\n",
    "blur = cv2.GaussianBlur(gray, (5, 5), 0)\n",
    "\n",
    "# Applying Canny edge detection algorithm\n",
    "edges = cv2.Canny(blur, 50, 150)\n",
    "\n",
    "# Dilate the edges to fill gaps\n",
    "kernel = cv2.getStructuringElement(cv2.MORPH_RECT, (3, 3))\n",
    "dilated = cv2.dilate(edges, kernel, iterations=3)\n",
    "\n",
    "# Find the contours in the dilated image\n",
    "contours, _ = cv2.findContours(dilated, cv2.RETR_EXTERNAL, cv2.CHAIN_APPROX_SIMPLE)\n",
    "\n",
    "# Create a mask for the segmented region\n",
    "mask = np.zeros_like(gray)\n",
    "cv2.drawContours(mask, contours, -1, (255, 255, 255), thickness=-1)\n",
    "\n",
    "# Apply the mask to the original image\n",
    "segmented = cv2.bitwise_and(image, image, mask=mask)\n",
    "\n",
    "# Display the original image and the segmented image\n",
    "cv2.imshow('Original Image', image)\n",
    "cv2.imshow('Segmented Image', segmented)\n",
    "cv2.waitKey(0)\n",
    "cv2.destroyAllWindows()\n"
   ]
  },
  {
   "cell_type": "code",
   "execution_count": null,
   "id": "8b0a01f1",
   "metadata": {},
   "outputs": [],
   "source": []
  },
  {
   "cell_type": "code",
   "execution_count": null,
   "id": "9e0db42d",
   "metadata": {},
   "outputs": [],
   "source": []
  }
 ],
 "metadata": {
  "kernelspec": {
   "display_name": "Python 3",
   "language": "python",
   "name": "python3"
  },
  "language_info": {
   "codemirror_mode": {
    "name": "ipython",
    "version": 3
   },
   "file_extension": ".py",
   "mimetype": "text/x-python",
   "name": "python",
   "nbconvert_exporter": "python",
   "pygments_lexer": "ipython3",
   "version": "3.11.2"
  },
  "vscode": {
   "interpreter": {
    "hash": "108095e740c160118120ad5e22811b4aca9f414a6f3c55c969835bc2c10848d1"
   }
  }
 },
 "nbformat": 4,
 "nbformat_minor": 5
}
